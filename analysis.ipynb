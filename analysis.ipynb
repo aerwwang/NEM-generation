{
 "cells": [
  {
   "cell_type": "markdown",
   "metadata": {},
   "source": [
    "This notebook analyses the total generation (in MWh), total generation revenue (in AUD) and the volume-weighted average price for various fuel types in the National Electricity Market (NEM).\n",
    "\n",
    "The input data includes:\n",
    "1. Spot prices for all regions of the NEM, with 5-minute resolution, covering the period from FY2020 to FY2024.\n",
    "    -- ##Production\\Report\\Electricity\\Generation\\Actual\\Region\\Metered\\Generation Stack FuelType ScheduleType (5min)\n",
    "2. Dispatched electricity by fuel type across all NEM regions, with 5-minute resolution, for the same FY2020 to FY2024 period.\n",
    "    -- ##Production\\Report\\Electricity\\Price\\Actual\\NEM\\Dispatch (5min)\\Dispatch Price all regions (5min)\n",
    "\n",
    "These analyses aim to provide insights into generation performance and pricing dynamics by fuel type in the NEM."
   ]
  },
  {
   "cell_type": "code",
   "execution_count": 2,
   "metadata": {},
   "outputs": [],
   "source": [
    "import pandas as pd\n",
    "from os import path\n",
    "import numpy as np\n",
    "import glob"
   ]
  },
  {
   "cell_type": "code",
   "execution_count": 8,
   "metadata": {},
   "outputs": [],
   "source": [
    "input_path = r'C:\\Users\\wwang2\\Documents\\GitHub\\NEM-generation\\data'\n",
    "clear_output = r'C:\\Users\\wwang2\\Documents\\GitHub\\NEM-generation\\results'"
   ]
  },
  {
   "cell_type": "code",
   "execution_count": 9,
   "metadata": {},
   "outputs": [],
   "source": [
    "l=glob.glob(path.join(input_path, '*_2019_2024_5_minutes.csv'))   "
   ]
  },
  {
   "cell_type": "code",
   "execution_count": 17,
   "metadata": {},
   "outputs": [
    {
     "name": "stdout",
     "output_type": "stream",
     "text": [
      "        DateTime  QLD1 DISPATCH_PRICE  NSW1 DISPATCH_PRICE  \\\n",
      "0  1/7/2019 0:05                64.80                67.26   \n",
      "1  1/7/2019 0:10                56.67                58.07   \n",
      "2  1/7/2019 0:15                57.45                58.71   \n",
      "3  1/7/2019 0:20                56.24                57.68   \n",
      "4  1/7/2019 0:25                56.49                57.92   \n",
      "\n",
      "   VIC1 DISPATCH_PRICE  SA1 DISPATCH_PRICE  TAS1 DISPATCH_PRICE  \n",
      "0                64.46               65.90                88.49  \n",
      "1                54.25               54.99                51.78  \n",
      "2                54.91               55.90                52.16  \n",
      "3                52.89               53.91                49.76  \n",
      "4                49.10               51.73                47.84  \n"
     ]
    }
   ],
   "source": [
    "df = pd.read_csv(path.join(input_path, \"Spot Price_2019_2024.csv\"))\n",
    "print(df.head())"
   ]
  },
  {
   "cell_type": "code",
   "execution_count": null,
   "metadata": {},
   "outputs": [],
   "source": [
    "def ToD(df):\n",
    "    df['DateTime']=pd.to_datetime(df['DateTime'],format='%d/%m/%Y %H:%M')\n",
    "    df['Month']=df['DateTime'].dt.month\n",
    "    df['CY']=df['DateTime'].dt.year\n",
    "    df['Quarter']=df['DateTime'].dt.quarter\n",
    "    df['FY']=df['DateTime'].map(lambda d: d.year + 1 if d.month > 6 else d.year)\n",
    "    df['Hour']=df['DateTime'].dt.hour"
   ]
  },
  {
   "cell_type": "code",
   "execution_count": 19,
   "metadata": {},
   "outputs": [
    {
     "name": "stdout",
     "output_type": "stream",
     "text": [
      "             DateTime  QLD1 DISPATCH_PRICE  NSW1 DISPATCH_PRICE  \\\n",
      "0 2019-07-01 00:05:00                64.80                67.26   \n",
      "1 2019-07-01 00:10:00                56.67                58.07   \n",
      "2 2019-07-01 00:15:00                57.45                58.71   \n",
      "3 2019-07-01 00:20:00                56.24                57.68   \n",
      "4 2019-07-01 00:25:00                56.49                57.92   \n",
      "\n",
      "   VIC1 DISPATCH_PRICE  SA1 DISPATCH_PRICE  TAS1 DISPATCH_PRICE  Month    CY  \\\n",
      "0                64.46               65.90                88.49      7  2019   \n",
      "1                54.25               54.99                51.78      7  2019   \n",
      "2                54.91               55.90                52.16      7  2019   \n",
      "3                52.89               53.91                49.76      7  2019   \n",
      "4                49.10               51.73                47.84      7  2019   \n",
      "\n",
      "   Quarter    FY  Hour  \n",
      "0        3  2020     0  \n",
      "1        3  2020     0  \n",
      "2        3  2020     0  \n",
      "3        3  2020     0  \n",
      "4        3  2020     0  \n"
     ]
    }
   ],
   "source": [
    "ToD(df)\n",
    "print(df.head())"
   ]
  },
  {
   "cell_type": "code",
   "execution_count": null,
   "metadata": {},
   "outputs": [],
   "source": [
    "def VWAP(df_price,df_generation, state):\n",
    "    \n",
    "    df_generation=df_generation.fillna(0)   # Formating the generation data,1, convert na into 0, 2, generation data devide by 12, 5 minutes data\n",
    "    df_generation[df_generation.filter(regex='DISPATCH_MW').keys()]=df_generation[df_generation.filter(regex='DISPATCH_MW').keys()]*1/12\n",
    "   \n",
    "    df_generation.columns = df_generation.columns.str.replace(r' DISPATCH_MW', '')                         # 3, Rename the data\n",
    "    \n",
    "    \n",
    "    for e in Fuel:                                                   # Check whether it contains all the fuel type\n",
    "        if df_generation.columns.tolist().count(e)==0:               # if it missed one fuel type, then generation set up as 0\n",
    "            df_generation['{}'.format(e)]=0\n",
    "        else:\n",
    "            pass\n",
    "    \n",
    "    df=df_price[['DateTime', '{} DISPATCH_PRICE'.format(state)]].merge(df_generation[Fuel], how='inner', on='DateTime')   # merge generation and price data together\n",
    "    \n",
    "    df['{}_Solar_Revenue'.format(state)]=df['{} DISPATCH_PRICE'.format(state)]*df['Solar']\n",
    "    df['{}_Wind_Revenue'.format(state)]=df['{} DISPATCH_PRICE'.format(state)]*df['Wind']    \n",
    "        \n",
    "    ToD(df)# change the datetime type and get FY, CY, HOUR and Qtly\n",
    "    \n",
    "    df_FY=df.groupby('FY').sum().reset_index()                                             \n",
    "    \n",
    "    df_FY['{}_Solar_VWAP'.format(state)]=df_FY['{}_Solar_Revenue'.format(state)]/df_FY['Solar']\n",
    "    df_FY['{}_Wind_VWAP'.format(state)]=df_FY['{}_Wind_Revenue'.format(state)]/df_FY['Wind']\n",
    "    #df_FY['{}_Total_VWAP'.format(state)]=df_FY['{}_Total_Revenue'.format(state)]/df_FY['Gen_Total']\n",
    "    \n",
    "    df_FY=df_FY.iloc[:,[0]+list(range(-2,0))] # Remove unnecessary information\n",
    "    \n",
    "    df_FY_Hour=df.groupby(['FY','Hour']).sum().reset_index()\n",
    "    \n",
    "    df_FY_Hour['{}_Solar_VWAP'.format(state)]=df_FY_Hour['{}_Solar_Revenue'.format(state)]/df_FY_Hour['Solar']\n",
    "    df_FY_Hour['{}_Wind_VWAP'.format(state)]=df_FY_Hour['{}_Wind_Revenue'.format(state)]/df_FY_Hour['Wind']\n",
    "    \n",
    "    \n",
    "    df_FY_Hour=df_FY_Hour.iloc[:,list(range(0,2))+list(range(-2,0))]   # Remove unnecessary information\n",
    "    \n",
    "    \n",
    "    return (df_FY, df_FY_Hour)\n",
    "    "
   ]
  }
 ],
 "metadata": {
  "kernelspec": {
   "display_name": "py38_default",
   "language": "python",
   "name": "python3"
  },
  "language_info": {
   "codemirror_mode": {
    "name": "ipython",
    "version": 3
   },
   "file_extension": ".py",
   "mimetype": "text/x-python",
   "name": "python",
   "nbconvert_exporter": "python",
   "pygments_lexer": "ipython3",
   "version": "3.8.16"
  }
 },
 "nbformat": 4,
 "nbformat_minor": 2
}
